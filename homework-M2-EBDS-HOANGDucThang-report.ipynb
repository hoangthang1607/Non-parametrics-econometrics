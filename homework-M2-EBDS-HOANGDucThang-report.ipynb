{
 "cells": [
  {
   "cell_type": "markdown",
   "metadata": {},
   "source": [
    "# Part I: Parametric econometric models\n",
    "\n",
    "This study develops several architectural features, housing furniture and facilities conditions to explain the house prices over past 5 years from 2006 to 2010 in Ames, American. The linear regression model is employed in this study to assess the impacts of both quantitative and qualitative factors in the housing prices sectors. In conclusion, the model suggests that the house price in Ames was triggered by housing surface, the quality of estate and the its location.\n",
    "\n",
    "Our source of data for Housing Price and its determinants was first built and introduced by Dean De Cock in his publication paper in Journal of Statistics Education which is available in Kaggle – one of the most famous data science network. This database, including 95 variables and 2921 observations, was based on the Ames City Assessor’s Office database, which contained initially 113 variables describing 3970 property sales."
   ]
  },
  {
   "cell_type": "code",
   "execution_count": 2,
   "metadata": {},
   "outputs": [],
   "source": [
    "# Importing the dataset\n",
    "AmesHousing <- read.table(\"homework-M2-EBDS-HOANGDucThang-data.txt.txt\")"
   ]
  },
  {
   "cell_type": "code",
   "execution_count": 34,
   "metadata": {},
   "outputs": [
    {
     "data": {
      "text/html": [
       "<ol class=list-inline>\n",
       "\t<li>2921</li>\n",
       "\t<li>95</li>\n",
       "</ol>\n"
      ],
      "text/latex": [
       "\\begin{enumerate*}\n",
       "\\item 2921\n",
       "\\item 95\n",
       "\\end{enumerate*}\n"
      ],
      "text/markdown": [
       "1. 2921\n",
       "2. 95\n",
       "\n",
       "\n"
      ],
      "text/plain": [
       "[1] 2921   95"
      ]
     },
     "metadata": {},
     "output_type": "display_data"
    }
   ],
   "source": [
    "# Checking its dimension\n",
    "dim(AmesHousing)"
   ]
  },
  {
   "cell_type": "markdown",
   "metadata": {},
   "source": [
    "In this project, in order to assess the impact of microeconomic factors on housing price determination, instead of considering all factors coming from the original database, we selected several variables which are listed and defined below:\n",
    "- **lSalePrice (dependent variable)**: logarithm of Housing Price.\n",
    "- **GrLivArea**: Above grade (ground) living area square feet.\n",
    "- **GarageArea**: Size of garage in square feet.\n",
    "- **OverallQual**: Rates the overall material and finish of the house (scale of 10 to represent the quality of the house from Very Poor, Poor, Fair, Below Average, Average, Above Average, Good, Very Good, Excellent, Very Excellent, respectively).\n",
    "- **YearBuilt**: Original construction date.\n",
    "- **MSZoning_FV, MSZoning_RH, MSZoning_RM, MSZoning_RL, other**: Dummy variables represent the general zoning classification of the sale (Floating Village Residential, Residential High Density, Residential Medium Density, Residential Low Density and other)."
   ]
  },
  {
   "cell_type": "code",
   "execution_count": 3,
   "metadata": {},
   "outputs": [],
   "source": [
    "attach(AmesHousing)\n",
    "X = cbind(lSalePrice, GrLivArea, GarageArea, OverallQual, YearBuilt, MSZoning_FV, MSZoning_RH, MSZoning_RM, MSZoning_RL)"
   ]
  },
  {
   "cell_type": "code",
   "execution_count": 4,
   "metadata": {},
   "outputs": [
    {
     "data": {
      "text/plain": [
       "   lSalePrice      GrLivArea      GarageArea      OverallQual    \n",
       " Min.   :10.46   Min.   : 334   Min.   :   0.0   Min.   : 1.000  \n",
       " 1st Qu.:11.77   1st Qu.:1126   1st Qu.: 320.0   1st Qu.: 5.000  \n",
       " Median :11.98   Median :1441   Median : 480.0   Median : 6.000  \n",
       " Mean   :12.02   Mean   :1495   Mean   : 472.1   Mean   : 6.093  \n",
       " 3rd Qu.:12.27   3rd Qu.:1740   3rd Qu.: 576.0   3rd Qu.: 7.000  \n",
       " Max.   :13.53   Max.   :4476   Max.   :1488.0   Max.   :10.000  \n",
       "   YearBuilt     MSZoning_FV       MSZoning_RH        MSZoning_RM    \n",
       " Min.   :1872   Min.   :0.00000   Min.   :0.000000   Min.   :0.0000  \n",
       " 1st Qu.:1954   1st Qu.:0.00000   1st Qu.:0.000000   1st Qu.:0.0000  \n",
       " Median :1973   Median :0.00000   Median :0.000000   Median :0.0000  \n",
       " Mean   :1971   Mean   :0.04759   Mean   :0.008901   Mean   :0.1571  \n",
       " 3rd Qu.:2001   3rd Qu.:0.00000   3rd Qu.:0.000000   3rd Qu.:0.0000  \n",
       " Max.   :2010   Max.   :1.00000   Max.   :1.000000   Max.   :1.0000  \n",
       "  MSZoning_RL    \n",
       " Min.   :0.0000  \n",
       " 1st Qu.:1.0000  \n",
       " Median :1.0000  \n",
       " Mean   :0.7768  \n",
       " 3rd Qu.:1.0000  \n",
       " Max.   :1.0000  "
      ]
     },
     "metadata": {},
     "output_type": "display_data"
    }
   ],
   "source": [
    "#Descriptive statistics\n",
    "summary(X)"
   ]
  },
  {
   "cell_type": "markdown",
   "metadata": {},
   "source": [
    "The model of this study is specified as:\n",
    "\n",
    "$lSalePrice_i = b_0 + b_1 \\times GrLivArea_i + b_2 \\times GarageArea_i + b_3 \\times OverallQual_i + b_4 \\times YearBuilt_i + b_5 \\times MSZoningFV_i + b_6 \\times MSZoningRH_i + b_7 \\times MSZoningRM_i + b_8 \\times MSZoningRL_i + u_i$ \n",
    "\n",
    "Here, $i$ is index of housing, $u_i$ is an error term. \n",
    "\n",
    "The model makes the following assumptions: \n",
    "- **H1**. The model is correctly specified and is linear in parameters. \n",
    "- **H2**. Homoscedasticity of error term: $var(u_i|X) = \\sigma ^2 $ for any $i \\in$ {1, 2, …, 2921}.\n",
    "- **H3**. Non autocorrelation of error term: $cov(u_i, u_j|X) = 0$ for any $i \\neq j$.\n",
    "- **H4**. Exogeneity of regressor: $E(u_i|X) = 0$  for any $i \\in$ {1, 2, …, 2921}.\n",
    "- **H5**. There is no strict multicollinearity among explanatory variables.\n",
    "\n",
    "OLS estimation is unbiased and consistent if assumptions **H1-H5** are satisfied given that our sample size is large enough. In the first part of this study, we only focus on finding the linear relationship among our variables by using OLS estimation.\n"
   ]
  },
  {
   "cell_type": "code",
   "execution_count": 5,
   "metadata": {},
   "outputs": [
    {
     "data": {
      "text/plain": [
       "\n",
       "Call:\n",
       "lm(formula = lSalePrice ~ GrLivArea + GarageArea + OverallQual + \n",
       "    YearBuilt + MSZoning_FV + MSZoning_RH + MSZoning_RM + MSZoning_RL)\n",
       "\n",
       "Residuals:\n",
       "     Min       1Q   Median       3Q      Max \n",
       "-1.01609 -0.08904  0.00603  0.09543  0.74994 \n",
       "\n",
       "Coefficients:\n",
       "             Estimate Std. Error t value Pr(>|t|)    \n",
       "(Intercept) 6.226e+00  2.587e-01  24.066  < 2e-16 ***\n",
       "GrLivArea   2.857e-04  7.592e-06  37.638  < 2e-16 ***\n",
       "GarageArea  2.914e-04  1.752e-05  16.630  < 2e-16 ***\n",
       "OverallQual 1.193e-01  3.178e-03  37.534  < 2e-16 ***\n",
       "YearBuilt   2.151e-03  1.362e-04  15.792  < 2e-16 ***\n",
       "MSZoning_FV 2.446e-01  3.383e-02   7.231 6.10e-13 ***\n",
       "MSZoning_RH 1.860e-01  4.278e-02   4.348 1.42e-05 ***\n",
       "MSZoning_RM 1.667e-01  3.067e-02   5.437 5.87e-08 ***\n",
       "MSZoning_RL 2.895e-01  3.044e-02   9.511  < 2e-16 ***\n",
       "---\n",
       "Signif. codes:  0 '***' 0.001 '**' 0.01 '*' 0.05 '.' 0.1 ' ' 1\n",
       "\n",
       "Residual standard error: 0.1563 on 2912 degrees of freedom\n",
       "Multiple R-squared:  0.8493,\tAdjusted R-squared:  0.8489 \n",
       "F-statistic:  2052 on 8 and 2912 DF,  p-value: < 2.2e-16\n"
      ]
     },
     "metadata": {},
     "output_type": "display_data"
    }
   ],
   "source": [
    "#Estimating the Linear model\n",
    "linear <- lm(lSalePrice~GrLivArea+GarageArea+OverallQual+YearBuilt+MSZoning_FV+MSZoning_RH+MSZoning_RM+MSZoning_RL)\n",
    "summary(linear)"
   ]
  },
  {
   "cell_type": "markdown",
   "metadata": {},
   "source": [
    "As can be seen, the linear model shows the high R-squared value (over 84%) which indicates that all chosen variables contribute reliably in explaining more than 84% of housing prices. As the results, all explanatory variables in our models are significantly and positively correlated with lSalePrice.\n",
    "\n",
    "The estimated intercept represents the average impact of houses in other zone on its price, more precisely, the house in other zone (out of listed 4 zones mentionned above) cost in average $e^{6.226}$\n",
    "\n",
    "The coefficient of GrLivArea allows to confirm that the house surface is more prone to house price escalation. A house with additional of ten square feet surface will be evaluated with higher price of 0.29%. This coefficient is quite reasonable while housing surface area is one of the factors which directly influence the house evaluation.\n",
    "\n",
    "The coefficient of GarageArea in our model is 2.914e-04: the larger car parking capacity is, the higher house price is. \n",
    "\n",
    "Overall housing architecture quality (OverallQual) as predicted is positively associated with the magnitude of house prices. A house which is evaluated with additional 1 point faces a greater price of 11.9%. It is consistent to the common argument that housing buyers are normally interested in the architecture and the structure conditions of a house to decide which price they can pay for.\n",
    "\n",
    "YearBuilt level itself is positively linked to house prices, though the coefficient is negligibly small. As can be seen, a house built in later 1 year has higher price of 0.215%. This leaves that YearBuilt may not be an important selection criterion in pricing a house.\n",
    "\n",
    "In this model, we run also with several dummy variables of housing zone. As predicted, the house located in Low Density or Floating Village Residential zone is appreciated in higher price."
   ]
  },
  {
   "cell_type": "markdown",
   "metadata": {},
   "source": [
    "# Part II: Non-parametric econometric models"
   ]
  },
  {
   "cell_type": "markdown",
   "metadata": {},
   "source": [
    "This part is devoted for a non - parametric model:\n",
    "\n",
    "$lSalePrice = b_0 + b_1 \\times GrLivArea + b_2 \\times GarageArea + b_3 \\times OverallQual + b_4 \\times YearBuilt + b_5 \\times MSZoningFV + b_6 \\times MSZoningRH + b_7 \\times MSZoningRM + b_8 \\times MSZoningRL + m_1(GrLivArea) + m_2(GarageArea) + m_3(OverallQual) + m_4(YearBuilt) + u$ \n",
    "\n",
    "This model is also known as a partially linear model. We also note that a nonlinear transformation of a dummy variable is still a dummy.\n",
    "\n",
    "Spatial dependence is specified nonparametrically rather than with standard parametric models (spatial autocorrelation models).\n"
   ]
  },
  {
   "cell_type": "code",
   "execution_count": 6,
   "metadata": {},
   "outputs": [
    {
     "name": "stderr",
     "output_type": "stream",
     "text": [
      "Loading required package: nlme\n",
      "This is mgcv 1.8-25. For overview type 'help(\"mgcv-package\")'.\n"
     ]
    },
    {
     "data": {
      "text/plain": [
       "\n",
       "Family: gaussian \n",
       "Link function: identity \n",
       "\n",
       "Formula:\n",
       "lSalePrice ~ GrLivArea + GarageArea + OverallQual + YearBuilt + \n",
       "    MSZoning_FV + MSZoning_RH + MSZoning_RM + MSZoning_RL + s(GrLivArea) + \n",
       "    s(GarageArea) + s(OverallQual) + s(YearBuilt)\n",
       "\n",
       "Parametric coefficients:\n",
       "              Estimate Std. Error t value Pr(>|t|)    \n",
       "(Intercept) -0.0012299  0.0014812  -0.830 0.406405    \n",
       "GrLivArea    0.0004178  0.0001043   4.006 6.34e-05 ***\n",
       "GarageArea   0.0001715  0.0001565   1.096 0.273022    \n",
       "OverallQual  0.0870273  0.0196815   4.422 1.02e-05 ***\n",
       "YearBuilt    0.0053519  0.0001021  52.434  < 2e-16 ***\n",
       "MSZoning_FV  0.2136550  0.0341107   6.264 4.32e-10 ***\n",
       "MSZoning_RH  0.1590629  0.0427489   3.721 0.000202 ***\n",
       "MSZoning_RM  0.1422255  0.0309752   4.592 4.59e-06 ***\n",
       "MSZoning_RL  0.2612437  0.0311058   8.399  < 2e-16 ***\n",
       "---\n",
       "Signif. codes:  0 '***' 0.001 '**' 0.01 '*' 0.05 '.' 0.1 ' ' 1\n",
       "\n",
       "Approximate significance of smooth terms:\n",
       "                 edf Ref.df      F p-value    \n",
       "s(GrLivArea)   6.300  7.324  2.440  0.0111 *  \n",
       "s(GarageArea)  4.529  5.622  1.948  0.0587 .  \n",
       "s(OverallQual) 5.250  6.335 15.131  <2e-16 ***\n",
       "s(YearBuilt)   8.373  8.854 36.804  <2e-16 ***\n",
       "---\n",
       "Signif. codes:  0 '***' 0.001 '**' 0.01 '*' 0.05 '.' 0.1 ' ' 1\n",
       "\n",
       "Rank: 41/45\n",
       "R-sq.(adj) =  0.856   Deviance explained = 85.8%\n",
       "GCV = 0.023473  Scale est. = 0.023215  n = 2921"
      ]
     },
     "metadata": {},
     "output_type": "display_data"
    }
   ],
   "source": [
    "#Processing GAM model\n",
    "library(mgcv)\n",
    "gam1 <- gam(lSalePrice~GrLivArea+GarageArea+OverallQual+YearBuilt+MSZoning_FV+MSZoning_RH+MSZoning_RM+MSZoning_RL+s(GrLivArea)+s(GarageArea)+s(OverallQual)+s(YearBuilt))\n",
    "summary(gam1)"
   ]
  },
  {
   "cell_type": "markdown",
   "metadata": {},
   "source": [
    "From these results, we can make standard interpretations:\n",
    "\n",
    "In overall, positive relationships among houses' determining factors such as its surface, facilities and architecture with its price are also found in the GAM estimation. However, compared with the previous model, the estimations of intercept and garage capacity are no longer significant.\n",
    "\n",
    "Furthermore, the rejection of the alternative hypothesis of OverallQual, YearBuilt at 1% and GrLivArea at 5% confirms that these factors tend to be non-linear."
   ]
  },
  {
   "cell_type": "code",
   "execution_count": 7,
   "metadata": {},
   "outputs": [
    {
     "data": {
      "image/png": "[encoded data removed]",
      "text/plain": [
       "plot without title"
      ]
     },
     "metadata": {},
     "output_type": "display_data"
    }
   ],
   "source": [
    "par(mfrow = c(2,2))\n",
    "plot(gam1, shade = T, shade.col = 'lightblue')"
   ]
  },
  {
   "cell_type": "markdown",
   "metadata": {},
   "source": [
    "As can be seen on these plots, only GarageArea exhibit nearly a line (linear) in its relationship with the housing price."
   ]
  },
  {
   "cell_type": "markdown",
   "metadata": {},
   "source": [
    "# Part III: Compare the results between the two approaches\n",
    "\n",
    "Obviously, GAM model results a better estimated R_square which indicate that GAM model is better that the previous one. However, through the figures illustrating the non linearities relationship between these variables and dependent variable, it can be seen that these non-linearity are not strong while its have negligible impact on improving R_square.\n",
    "\n",
    "As can be seen on these above plots of non-linear relationships in GAM model, we suggest that Piece liner model can be used with knots in implementing a better parametric model. Therefore, we can make inference as below:\n",
    "\n",
    "$m_1(GrLivArea) = \\gamma_1 \\times GrLivArea + \\gamma_2 \\times (GrLivArea - 900)_+ $\n",
    "\n",
    "$m_3(OverallQual) = \\theta_1 \\times OverallQual + \\theta_2 \\times (OverallQual - 5)_+ + \\theta_3 \\times (OverallQual - 7)_+$\n",
    "\n",
    "$m_4(YearBuilt) = \\eta_1 \\times YearBuilt + \\eta_2 \\times (YearBuilt - 1882)_+ $"
   ]
  },
  {
   "cell_type": "code",
   "execution_count": 25,
   "metadata": {},
   "outputs": [
    {
     "data": {
      "text/plain": [
       "\n",
       "Call:\n",
       "lm(formula = lSalePrice ~ GrLivArea + GarageArea + OverallQual + \n",
       "    YearBuilt + MSZoning_FV + MSZoning_RH + MSZoning_RM + MSZoning_RL + \n",
       "    (GrLivArea >= 900) * GrLivArea + (OverallQual >= 5) * OverallQual + \n",
       "    (OverallQual >= 7) * OverallQual + (YearBuilt >= 1882) * \n",
       "    YearBuilt)\n",
       "\n",
       "Residuals:\n",
       "     Min       1Q   Median       3Q      Max \n",
       "-1.05372 -0.08153  0.00190  0.08895  0.71476 \n",
       "\n",
       "Coefficients:\n",
       "                                   Estimate Std. Error t value Pr(>|t|)    \n",
       "(Intercept)                      -6.908e+01  3.577e+01  -1.931 0.053528 .  \n",
       "GrLivArea                         5.714e-04  1.114e-04   5.129 3.10e-07 ***\n",
       "GarageArea                        2.669e-04  1.750e-05  15.258  < 2e-16 ***\n",
       "OverallQual                       1.450e-01  1.735e-02   8.358  < 2e-16 ***\n",
       "YearBuilt                         4.206e-02  1.904e-02   2.209 0.027274 *  \n",
       "MSZoning_FV                       2.289e-01  3.390e-02   6.752 1.75e-11 ***\n",
       "MSZoning_RH                       1.628e-01  4.264e-02   3.817 0.000138 ***\n",
       "MSZoning_RM                       1.466e-01  3.083e-02   4.754 2.09e-06 ***\n",
       "MSZoning_RL                       2.638e-01  3.074e-02   8.583  < 2e-16 ***\n",
       "GrLivArea >= 900TRUE              2.688e-01  9.202e-02   2.920 0.003522 ** \n",
       "OverallQual >= 5TRUE              3.227e-01  8.007e-02   4.031 5.70e-05 ***\n",
       "OverallQual >= 7TRUE             -5.829e-01  6.487e-02  -8.985  < 2e-16 ***\n",
       "YearBuilt >= 1882TRUE             7.458e+01  3.577e+01   2.085 0.037147 *  \n",
       "GrLivArea:GrLivArea >= 900TRUE   -2.897e-04  1.115e-04  -2.598 0.009421 ** \n",
       "OverallQual:OverallQual >= 5TRUE -6.424e-02  1.909e-02  -3.365 0.000776 ***\n",
       "OverallQual:OverallQual >= 7TRUE  8.430e-02  1.013e-02   8.322  < 2e-16 ***\n",
       "YearBuilt:YearBuilt >= 1882TRUE  -3.970e-02  1.904e-02  -2.085 0.037161 *  \n",
       "---\n",
       "Signif. codes:  0 '***' 0.001 '**' 0.01 '*' 0.05 '.' 0.1 ' ' 1\n",
       "\n",
       "Residual standard error: 0.1534 on 2904 degrees of freedom\n",
       "Multiple R-squared:  0.8552,\tAdjusted R-squared:  0.8544 \n",
       "F-statistic:  1072 on 16 and 2904 DF,  p-value: < 2.2e-16\n"
      ]
     },
     "metadata": {},
     "output_type": "display_data"
    }
   ],
   "source": [
    "linear2 <- lm(lSalePrice~GrLivArea+GarageArea+OverallQual+YearBuilt+MSZoning_FV+MSZoning_RH+MSZoning_RM+MSZoning_RL\n",
    "              +(GrLivArea >= 900)*GrLivArea+(OverallQual >= 5)*OverallQual+(OverallQual >= 7)*OverallQual+(YearBuilt >= 1882)*YearBuilt)\n",
    "summary(linear2)"
   ]
  },
  {
   "cell_type": "markdown",
   "metadata": {},
   "source": [
    "As can be seen, this model has improved slightly R_square and all estimations are significant except the intercept. The precise explanation is represented as below: \n",
    "- For the house with its surface under 900 sqft, while its surface increase 10%, its price increase also 0.057% on average. However, for the larger houses with its surface over 900 sqft, 10% increase in surfaces leads to 26.9% on average in its price. \n",
    "- In term of Overall quality of house (OverallQual), it's divided into 3 groups:\n",
    "        + From 1 - 4: Coefficient is 0.145\n",
    "        + From 5 - 7: Coefficient is 0/4677\n",
    "        + Over 7 : Coefficient is -0.1152\n",
    "- In term of year built, the house built before 1982 has much lower effect on price (0.042) than the newer houses built after 1982 (74.6)\n",
    "\n",
    "In the following part, we consider the interaction between OverallQual and YearBuilt in the non-linear component. The model is below:"
   ]
  },
  {
   "cell_type": "code",
   "execution_count": 27,
   "metadata": {},
   "outputs": [
    {
     "data": {
      "text/plain": [
       "\n",
       "Family: gaussian \n",
       "Link function: identity \n",
       "\n",
       "Formula:\n",
       "lSalePrice ~ GrLivArea + GarageArea + OverallQual + YearBuilt + \n",
       "    MSZoning_FV + MSZoning_RH + MSZoning_RM + MSZoning_RL + s(GrLivArea) + \n",
       "    s(OverallQual, YearBuilt)\n",
       "\n",
       "Parametric coefficients:\n",
       "              Estimate Std. Error t value Pr(>|t|)    \n",
       "(Intercept) -7.959e-04  7.753e-04  -1.026    0.305    \n",
       "GrLivArea    5.177e-04  1.005e-04   5.150 2.78e-07 ***\n",
       "GarageArea   2.706e-04  1.762e-05  15.363  < 2e-16 ***\n",
       "OverallQual  7.471e-02  3.372e-03  22.155  < 2e-16 ***\n",
       "YearBuilt    5.286e-03  7.752e-05  68.186  < 2e-16 ***\n",
       "MSZoning_FV  2.176e-01  3.419e-02   6.366 2.25e-10 ***\n",
       "MSZoning_RH  1.703e-01  4.292e-02   3.967 7.46e-05 ***\n",
       "MSZoning_RM  1.559e-01  3.117e-02   5.000 6.07e-07 ***\n",
       "MSZoning_RL  2.697e-01  3.118e-02   8.650  < 2e-16 ***\n",
       "---\n",
       "Signif. codes:  0 '***' 0.001 '**' 0.01 '*' 0.05 '.' 0.1 ' ' 1\n",
       "\n",
       "Approximate significance of smooth terms:\n",
       "                            edf Ref.df      F p-value    \n",
       "s(GrLivArea)              6.233  7.278  2.006  0.0326 *  \n",
       "s(OverallQual,YearBuilt) 21.399 25.248 22.890  <2e-16 ***\n",
       "---\n",
       "Signif. codes:  0 '***' 0.001 '**' 0.01 '*' 0.05 '.' 0.1 ' ' 1\n",
       "\n",
       "Rank: 44/47\n",
       "R-sq.(adj) =  0.855   Deviance explained = 85.7%\n",
       "GCV = 0.023693  Scale est. = 0.023406  n = 2921"
      ]
     },
     "metadata": {},
     "output_type": "display_data"
    }
   ],
   "source": [
    "gam2 <- gam(lSalePrice~GrLivArea+GarageArea+OverallQual+YearBuilt+MSZoning_FV+MSZoning_RH+MSZoning_RM+MSZoning_RL+s(GrLivArea)+s(OverallQual, YearBuilt))\n",
    "summary(gam2)"
   ]
  },
  {
   "cell_type": "code",
   "execution_count": 29,
   "metadata": {},
   "outputs": [
    {
     "data": {
      "image/png": "[encoded data removed]",
      "text/plain": [
       "plot without title"
      ]
     },
     "metadata": {},
     "output_type": "display_data"
    }
   ],
   "source": [
    "par(mfrow = c(1,2))\n",
    "plot(gam2, shade = T, shade.col = 'lightblue')"
   ]
  },
  {
   "cell_type": "code",
   "execution_count": 30,
   "metadata": {},
   "outputs": [
    {
     "data": {
      "image/png": "[encoded data removed]",
      "text/plain": [
       "plot without title"
      ]
     },
     "metadata": {},
     "output_type": "display_data"
    }
   ],
   "source": [
    "vis.gam(gam2, view = c('OverallQual', 'YearBuilt'), phi = 20)"
   ]
  },
  {
   "cell_type": "markdown",
   "metadata": {},
   "source": [
    "In general, this model shares the same patterns with its previous ones in the significancy of estimated coefficients and high R_squares (high power of explanation of explaining variables). Despite the rejection of H0 in linearity in GrLivArea and the interactive relation betweeen OverallQual and YearBuilt, we found that these non-linearity is not much strong while the last figure shows that the relationship between these variables nearly a surface. Therefore, the piece linear model is a better candidate to illustrate the impact of houses' characters on its price."
   ]
  }
 ],
 "metadata": {
  "kernelspec": {
   "display_name": "R",
   "language": "R",
   "name": "ir"
  },
  "language_info": {
   "codemirror_mode": "r",
   "file_extension": ".r",
   "mimetype": "text/x-r-source",
   "name": "R",
   "pygments_lexer": "r",
   "version": "3.5.1"
  }
 },
 "nbformat": 4,
 "nbformat_minor": 2
}
